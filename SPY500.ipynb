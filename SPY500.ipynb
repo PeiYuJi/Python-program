{
  "nbformat": 4,
  "nbformat_minor": 0,
  "metadata": {
    "colab": {
      "provenance": [],
      "authorship_tag": "ABX9TyMmWqBudc5cOE0+6gZ8Z6IO",
      "include_colab_link": true
    },
    "kernelspec": {
      "name": "python3",
      "display_name": "Python 3"
    },
    "language_info": {
      "name": "python"
    }
  },
  "cells": [
    {
      "cell_type": "markdown",
      "metadata": {
        "id": "view-in-github",
        "colab_type": "text"
      },
      "source": [
        "<a href=\"https://colab.research.google.com/github/PeiYuJi/Python-program/blob/main/SPY500.ipynb\" target=\"_parent\"><img src=\"https://colab.research.google.com/assets/colab-badge.svg\" alt=\"Open In Colab\"/></a>"
      ]
    },
    {
      "cell_type": "code",
      "execution_count": 30,
      "metadata": {
        "colab": {
          "base_uri": "https://localhost:8080/"
        },
        "id": "N1LSlKJeZIwq",
        "outputId": "6a4ae105-a665-42eb-f514-a0964df3a8d0"
      },
      "outputs": [
        {
          "output_type": "stream",
          "name": "stdout",
          "text": [
            "資料已成功儲存為 spy_holdings_and_sector_allocation.csv\n"
          ]
        },
        {
          "output_type": "stream",
          "name": "stderr",
          "text": [
            "<ipython-input-30-bb2ec89e88d0>:14: FutureWarning: Passing literal html to 'read_html' is deprecated and will be removed in a future version. To read from a literal string, wrap it in a 'StringIO' object.\n",
            "  dfs = pd.read_html(response.text)\n"
          ]
        }
      ],
      "source": [
        "import requests\n",
        "import pandas as pd\n",
        "from io import StringIO\n",
        "\n",
        "# SPY 的每日持股和產業配置資料的 CSV 檔案 URL\n",
        "url = \"https://www.ssga.com/us/en/individual/etfs/spdr-sp-500-etf-trust-spy\"\n",
        "\n",
        "# 發送 HTTP 請求獲取網頁內容\n",
        "response = requests.get(url)\n",
        "response.raise_for_status()  # 若請求失敗，拋出異常\n",
        "\n",
        "# 假設資料在網頁中的某個表格中，使用 pandas 讀取該表格\n",
        "# 注意：您需要根據實際情況調整表格的索引或其他參數\n",
        "dfs = pd.read_html(response.text)\n",
        "\n",
        "# 假設我們需要的資料在第一個表格中\n",
        "df = dfs[-1]\n",
        "\n",
        "# 儲存為 CSV 檔案\n",
        "df.to_csv(\"spy_holdings_and_sector_allocation.csv\", index=False)\n",
        "\n",
        "print(\"資料已成功儲存為 spy_holdings_and_sector_allocation.csv\")"
      ]
    }
  ]
}